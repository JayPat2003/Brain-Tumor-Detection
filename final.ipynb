{
  "nbformat": 4,
  "nbformat_minor": 0,
  "metadata": {
    "colab": {
      "provenance": []
    },
    "kernelspec": {
      "name": "python3",
      "display_name": "Python 3"
    },
    "language_info": {
      "name": "python"
    },
    "accelerator": "TPU"
  },
  "cells": [
    {
      "cell_type": "code",
      "execution_count": null,
      "metadata": {
        "id": "YHuRSIP8vs-P"
      },
      "outputs": [],
      "source": [
        "import os\n",
        "import numpy as np\n",
        "import tensorflow as tf\n",
        "from tensorflow.keras.preprocessing.image import ImageDataGenerator\n",
        "from tensorflow.keras.applications import InceptionV3\n",
        "from tensorflow.keras.layers import Dense, GlobalAveragePooling2D\n",
        "from tensorflow.keras.models import Model\n",
        "from sklearn.model_selection import train_test_split"
      ]
    },
    {
      "cell_type": "code",
      "source": [
        "data_dir = '/content/drive/MyDrive/braintumor_dataset'  # Update with the actual path to your dataset\n",
        "batch_size = 32 # Updated batch size to 32\n",
        "epochs = 10\n",
        "validation_split = 0.1\n",
        "input_shape = (224, 224, 3)  # Adjust based on your dataset's image dimensions\n",
        "num_classes = 2  # Two classes: 'no-tumor' and 'meningioma-tumor'"
      ],
      "metadata": {
        "id": "r_Br_VMiwA0j"
      },
      "execution_count": null,
      "outputs": []
    },
    {
      "cell_type": "code",
      "source": [
        "datagen = ImageDataGenerator(\n",
        "    rescale=1.0 / 255.0,\n",
        "    rotation_range=20,\n",
        "    width_shift_range=0.2,\n",
        "    height_shift_range=0.2,\n",
        "    shear_range=0.2,\n",
        "    zoom_range=0.2,\n",
        "    horizontal_flip=True,\n",
        "    validation_split=validation_split,\n",
        ")"
      ],
      "metadata": {
        "id": "IeK9c26NwLZ7"
      },
      "execution_count": null,
      "outputs": []
    },
    {
      "cell_type": "code",
      "source": [
        "train_generator = datagen.flow_from_directory(\n",
        "    data_dir + '/Training',\n",
        "    target_size=input_shape[:2],\n",
        "    batch_size=batch_size,\n",
        "    class_mode='categorical',\n",
        "    subset='training',\n",
        ")"
      ],
      "metadata": {
        "colab": {
          "base_uri": "https://localhost:8080/"
        },
        "id": "f400yoMqwZHX",
        "outputId": "6db821e2-53a8-4356-b356-a137471b5920"
      },
      "execution_count": null,
      "outputs": [
        {
          "output_type": "stream",
          "name": "stdout",
          "text": [
            "Found 3971 images belonging to 2 classes.\n"
          ]
        }
      ]
    },
    {
      "cell_type": "code",
      "source": [
        "validation_generator = datagen.flow_from_directory(\n",
        "    data_dir + '/Training',\n",
        "    target_size=input_shape[:2],\n",
        "    batch_size=batch_size,\n",
        "    class_mode='categorical',\n",
        "    subset='validation',\n",
        ")"
      ],
      "metadata": {
        "colab": {
          "base_uri": "https://localhost:8080/"
        },
        "id": "MuODtKmhweQ_",
        "outputId": "c1acb077-09b2-423d-e8cc-25470c7986aa"
      },
      "execution_count": null,
      "outputs": [
        {
          "output_type": "stream",
          "name": "stdout",
          "text": [
            "Found 440 images belonging to 2 classes.\n"
          ]
        }
      ]
    },
    {
      "cell_type": "code",
      "source": [
        "base_model = InceptionV3(weights='imagenet', include_top=False, input_shape=input_shape)"
      ],
      "metadata": {
        "colab": {
          "base_uri": "https://localhost:8080/"
        },
        "id": "-YD73GYgwlEQ",
        "outputId": "83498762-f68a-4b3f-fdbe-7dd8a64d7fde"
      },
      "execution_count": null,
      "outputs": [
        {
          "output_type": "stream",
          "name": "stdout",
          "text": [
            "Downloading data from https://storage.googleapis.com/tensorflow/keras-applications/inception_v3/inception_v3_weights_tf_dim_ordering_tf_kernels_notop.h5\n",
            "87910968/87910968 [==============================] - 1s 0us/step\n"
          ]
        }
      ]
    },
    {
      "cell_type": "code",
      "source": [
        "# Add custom layers for binary classification\n",
        "x = base_model.output\n",
        "x = GlobalAveragePooling2D()(x)\n",
        "x = Dense(1024, activation='relu')(x)\n",
        "predictions = Dense(num_classes, activation='softmax')(x)"
      ],
      "metadata": {
        "id": "Ehn8K6eIwnhH"
      },
      "execution_count": null,
      "outputs": []
    },
    {
      "cell_type": "code",
      "source": [
        "model = Model(inputs=base_model.input, outputs=predictions)"
      ],
      "metadata": {
        "id": "hhB2s-HDwrn4"
      },
      "execution_count": null,
      "outputs": []
    },
    {
      "cell_type": "code",
      "source": [
        "# Freeze the layers in the base model\n",
        "for layer in base_model.layers:\n",
        "    layer.trainable = False"
      ],
      "metadata": {
        "id": "adoRM-Prwumg"
      },
      "execution_count": null,
      "outputs": []
    },
    {
      "cell_type": "code",
      "source": [
        "model.compile(optimizer='adam', loss='categorical_crossentropy', metrics=['accuracy'])"
      ],
      "metadata": {
        "id": "ZkCl4us8wwxp"
      },
      "execution_count": null,
      "outputs": []
    },
    {
      "cell_type": "code",
      "source": [
        "import matplotlib.pyplot as plt"
      ],
      "metadata": {
        "id": "YRu1yBANwy84"
      },
      "execution_count": null,
      "outputs": []
    },
    {
      "cell_type": "code",
      "source": [
        "# Train the model\n",
        "history = model.fit(\n",
        "    train_generator,\n",
        "    steps_per_epoch=train_generator.samples // batch_size,\n",
        "    epochs=epochs,\n",
        "    validation_data=validation_generator,\n",
        "    validation_steps=validation_generator.samples // batch_size,\n",
        ")"
      ],
      "metadata": {
        "colab": {
          "base_uri": "https://localhost:8080/"
        },
        "id": "HFRHZpHEyoHA",
        "outputId": "aa758253-b980-40be-f207-c5861a8dd689"
      },
      "execution_count": null,
      "outputs": [
        {
          "output_type": "stream",
          "name": "stdout",
          "text": [
            "Epoch 1/10\n",
            "124/124 [==============================] - 350s 3s/step - loss: 0.1099 - accuracy: 0.9554 - val_loss: 0.5548 - val_accuracy: 0.8365\n",
            "Epoch 2/10\n",
            "124/124 [==============================] - 350s 3s/step - loss: 0.1156 - accuracy: 0.9597 - val_loss: 0.5306 - val_accuracy: 0.8077\n",
            "Epoch 3/10\n",
            "124/124 [==============================] - 355s 3s/step - loss: 0.1067 - accuracy: 0.9657 - val_loss: 0.5462 - val_accuracy: 0.7885\n",
            "Epoch 4/10\n",
            "124/124 [==============================] - 353s 3s/step - loss: 0.1004 - accuracy: 0.9594 - val_loss: 0.4255 - val_accuracy: 0.8606\n",
            "Epoch 5/10\n",
            "124/124 [==============================] - 357s 3s/step - loss: 0.1004 - accuracy: 0.9672 - val_loss: 0.7268 - val_accuracy: 0.7885\n",
            "Epoch 6/10\n",
            "124/124 [==============================] - 346s 3s/step - loss: 0.1042 - accuracy: 0.9609 - val_loss: 0.4844 - val_accuracy: 0.8173\n",
            "Epoch 7/10\n",
            "124/124 [==============================] - 353s 3s/step - loss: 0.0921 - accuracy: 0.9635 - val_loss: 0.3260 - val_accuracy: 0.8654\n",
            "Epoch 8/10\n",
            "124/124 [==============================] - 353s 3s/step - loss: 0.0848 - accuracy: 0.9680 - val_loss: 0.4245 - val_accuracy: 0.8365\n",
            "Epoch 9/10\n",
            "124/124 [==============================] - 353s 3s/step - loss: 0.0880 - accuracy: 0.9696 - val_loss: 0.6950 - val_accuracy: 0.7788\n",
            "Epoch 10/10\n",
            "124/124 [==============================] - 342s 3s/step - loss: 0.0736 - accuracy: 0.9731 - val_loss: 0.6716 - val_accuracy: 0.7692\n"
          ]
        }
      ]
    },
    {
      "cell_type": "code",
      "source": [
        "test_generator = datagen.flow_from_directory(\n",
        "    data_dir + '/Testing',\n",
        "    target_size=input_shape[:2],\n",
        "    batch_size=batch_size,\n",
        "    class_mode='categorical',\n",
        "    shuffle=False,\n",
        ")"
      ],
      "metadata": {
        "colab": {
          "base_uri": "https://localhost:8080/"
        },
        "id": "l6wiTDtF41mI",
        "outputId": "904ef164-d342-4b80-e4c0-a6323f0fc7fd"
      },
      "execution_count": null,
      "outputs": [
        {
          "output_type": "stream",
          "name": "stdout",
          "text": [
            "Found 1011 images belonging to 2 classes.\n"
          ]
        }
      ]
    },
    {
      "cell_type": "code",
      "source": [
        "test_loss, test_accuracy = model.evaluate(test_generator)\n",
        "print(f'Test Loss: {test_loss:.4f}')\n",
        "print(f'Test Accuracy: {test_accuracy * 100:.2f}%')"
      ],
      "metadata": {
        "colab": {
          "base_uri": "https://localhost:8080/"
        },
        "id": "qWMnMcRWHTpa",
        "outputId": "46a65350-212a-4e96-fae0-1e4f770d17e4"
      },
      "execution_count": null,
      "outputs": [
        {
          "output_type": "stream",
          "name": "stdout",
          "text": [
            "32/32 [==============================] - 215s 7s/step - loss: 0.3259 - accuracy: 0.9021\n",
            "Test Loss: 0.3259\n",
            "Test Accuracy: 90.21%\n"
          ]
        }
      ]
    },
    {
      "cell_type": "code",
      "source": [
        "model.save('inceptionv3braintumor.h5')"
      ],
      "metadata": {
        "id": "dTnU6pyCHXXF"
      },
      "execution_count": null,
      "outputs": []
    },
    {
      "cell_type": "code",
      "source": [],
      "metadata": {
        "id": "tRaRJi3sIbE9"
      },
      "execution_count": null,
      "outputs": []
    }
  ]
}