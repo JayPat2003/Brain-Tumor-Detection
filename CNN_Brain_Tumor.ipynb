{
  "nbformat": 4,
  "nbformat_minor": 0,
  "metadata": {
    "colab": {
      "provenance": []
    },
    "kernelspec": {
      "name": "python3",
      "display_name": "Python 3"
    },
    "language_info": {
      "name": "python"
    },
    "accelerator": "TPU"
  },
  "cells": [
    {
      "cell_type": "code",
      "source": [
        "pip install tensorflow"
      ],
      "metadata": {
        "id": "B7FXfB6w3Sfo"
      },
      "execution_count": null,
      "outputs": []
    },
    {
      "cell_type": "code",
      "source": [
        "pip install keras"
      ],
      "metadata": {
        "colab": {
          "base_uri": "https://localhost:8080/"
        },
        "id": "u_enPOAf3jRy",
        "outputId": "51eba9fc-3cd0-4e0b-b66a-c192a6f9fe1b"
      },
      "execution_count": null,
      "outputs": [
        {
          "output_type": "stream",
          "name": "stdout",
          "text": [
            "Requirement already satisfied: keras in /usr/local/lib/python3.10/dist-packages (2.12.0)\n"
          ]
        }
      ]
    },
    {
      "cell_type": "code",
      "source": [
        "import os\n",
        "\n",
        "# Specify the correct path to the folder containing the images\n",
        "data_path = \"/content/drive/MyDrive/brain_tumor_dataset/yes\"\n",
        "\n",
        "# List the images in the folder\n",
        "image_names = os.listdir(data_path)\n",
        "print(\"List of some image names:\")\n",
        "print(image_names[:10])  # Display the names of the first 10 images here\n",
        "\n",
        "# Number of images in the folder\n",
        "num_images = len(image_names)\n",
        "print(\"Number of images present:\", num_images)"
      ],
      "metadata": {
        "colab": {
          "base_uri": "https://localhost:8080/"
        },
        "id": "Ad8pi5S83xuy",
        "outputId": "c83c11b2-0a3b-4c25-af1a-954345153f1c"
      },
      "execution_count": null,
      "outputs": [
        {
          "output_type": "stream",
          "name": "stdout",
          "text": [
            "List of some image names:\n",
            "['Y52.jpg', 'Y69.jpg', 'Y66.JPG', 'Y155.JPG', 'Y249.JPG', 'Y247.JPG', 'Y37.jpg', 'Y95.jpg', 'Y81.jpg', 'Y89.JPG']\n",
            "Number of images present: 272\n"
          ]
        }
      ]
    },
    {
      "cell_type": "code",
      "source": [
        "import tensorflow as tf\n",
        "from tensorflow.keras import layers, models\n",
        "from tensorflow.keras.preprocessing.image import ImageDataGenerator\n",
        "\n",
        "# Define the paths for the two directories\n",
        "train_data_dir = \"/content/drive/MyDrive/brain_tumor_dataset\"\n",
        "train_yes_dir = train_data_dir + \"/yes\"\n",
        "train_no_dir = train_data_dir + \"/no\"\n",
        "\n",
        "# Larger image dimensions\n",
        "image_width, image_height = 300, 300\n",
        "batch_size = 32\n",
        "\n",
        "# Prepare the data\n",
        "train_datagen = ImageDataGenerator(rescale=1./255)\n",
        "train_generator = train_datagen.flow_from_directory(\n",
        "    train_data_dir,\n",
        "    target_size=(image_width, image_height),\n",
        "    batch_size=batch_size,\n",
        "    class_mode='binary',\n",
        "    classes=['no', 'yes']\n",
        ")\n",
        "\n",
        "# Build the model\n",
        "model = models.Sequential()\n",
        "model.add(layers.Conv2D(32, (3, 3), activation='relu', input_shape=(image_width, image_height, 3)))\n",
        "model.add(layers.MaxPooling2D((2, 2)))\n",
        "model.add(layers.Conv2D(64, (3, 3), activation='relu'))\n",
        "model.add(layers.MaxPooling2D((2, 2)))\n",
        "model.add(layers.Conv2D(128, (3, 3), activation='relu'))\n",
        "model.add(layers.MaxPooling2D((2, 2)))\n",
        "model.add(layers.Flatten())\n",
        "model.add(layers.Dense(64, activation='relu'))\n",
        "model.add(layers.Dense(1, activation='sigmoid'))\n",
        "\n",
        "# Modify training parameters\n",
        "model.compile(optimizer='adam',\n",
        "              loss='binary_crossentropy',\n",
        "              metrics=['accuracy'])\n",
        "\n",
        "# Train the model\n",
        "epochs = 10\n",
        "model.fit(train_generator, epochs=epochs)\n"
      ],
      "metadata": {
        "colab": {
          "base_uri": "https://localhost:8080/"
        },
        "id": "s7VAq__B6g44",
        "outputId": "071cf330-8218-4cf8-b90b-8e6ce6d592ec"
      },
      "execution_count": null,
      "outputs": [
        {
          "output_type": "stream",
          "name": "stdout",
          "text": [
            "Found 475 images belonging to 2 classes.\n",
            "Epoch 1/10\n",
            "15/15 [==============================] - 128s 8s/step - loss: 0.9331 - accuracy: 0.6084\n",
            "Epoch 2/10\n",
            "15/15 [==============================] - 134s 9s/step - loss: 0.5467 - accuracy: 0.7558\n",
            "Epoch 3/10\n",
            "15/15 [==============================] - 120s 8s/step - loss: 0.4918 - accuracy: 0.7958\n",
            "Epoch 4/10\n",
            "15/15 [==============================] - 122s 8s/step - loss: 0.4036 - accuracy: 0.8147\n",
            "Epoch 5/10\n",
            "15/15 [==============================] - 120s 8s/step - loss: 0.2766 - accuracy: 0.9032\n",
            "Epoch 6/10\n",
            "15/15 [==============================] - 120s 8s/step - loss: 0.1571 - accuracy: 0.9474\n",
            "Epoch 7/10\n",
            "15/15 [==============================] - 137s 8s/step - loss: 0.0810 - accuracy: 0.9768\n",
            "Epoch 8/10\n",
            "15/15 [==============================] - 122s 8s/step - loss: 0.0443 - accuracy: 0.9937\n",
            "Epoch 9/10\n",
            "15/15 [==============================] - 122s 8s/step - loss: 0.0209 - accuracy: 0.9916\n",
            "Epoch 10/10\n",
            "15/15 [==============================] - 121s 8s/step - loss: 0.0130 - accuracy: 0.9958\n"
          ]
        },
        {
          "output_type": "execute_result",
          "data": {
            "text/plain": [
              "<keras.callbacks.History at 0x7bddfc432f80>"
            ]
          },
          "metadata": {},
          "execution_count": 5
        }
      ]
    },
    {
      "cell_type": "code",
      "source": [
        "pip install joblib"
      ],
      "metadata": {
        "colab": {
          "base_uri": "https://localhost:8080/"
        },
        "id": "q-Ley8IvM5ry",
        "outputId": "1912cf7e-deb9-47ea-b72f-4ecfdd4597b8"
      },
      "execution_count": null,
      "outputs": [
        {
          "output_type": "stream",
          "name": "stdout",
          "text": [
            "Requirement already satisfied: joblib in /usr/local/lib/python3.10/dist-packages (1.3.2)\n"
          ]
        }
      ]
    },
    {
      "cell_type": "code",
      "source": [
        "import joblib\n",
        "\n",
        "# Assuming 'model' is your trained TensorFlow model\n",
        "joblib.dump(model, 'brain_mod.joblib')"
      ],
      "metadata": {
        "colab": {
          "base_uri": "https://localhost:8080/"
        },
        "id": "A2UBzRDbM-9x",
        "outputId": "d31a4b8a-13a5-4292-e1a1-bea4c3331534"
      },
      "execution_count": null,
      "outputs": [
        {
          "output_type": "execute_result",
          "data": {
            "text/plain": [
              "['brain_mod.joblib']"
            ]
          },
          "metadata": {},
          "execution_count": 7
        }
      ]
    },
    {
      "cell_type": "code",
      "source": [
        "import joblib\n",
        "import keras.models\n",
        "\n",
        "# Load the joblib model\n",
        "joblib_model = joblib.load('brain_mod.joblib')\n",
        "\n",
        "# Convert the joblib model to a Keras model\n",
        "keras_model = keras.models.Sequential()\n",
        "for layer in joblib_model.layers:\n",
        "    keras_model.add(layer)\n",
        "\n",
        "# Save the Keras model to HDF5 format\n",
        "keras_model.save('brain_mod.h5')\n"
      ],
      "metadata": {
        "colab": {
          "base_uri": "https://localhost:8080/"
        },
        "id": "-5zoffScXfi8",
        "outputId": "1c294746-02d8-4d74-f4cd-b17cf44e9073"
      },
      "execution_count": null,
      "outputs": [
        {
          "output_type": "stream",
          "name": "stderr",
          "text": [
            "WARNING:tensorflow:Compiled the loaded model, but the compiled metrics have yet to be built. `model.compile_metrics` will be empty until you train or evaluate the model.\n"
          ]
        }
      ]
    },
    {
      "cell_type": "code",
      "source": [],
      "metadata": {
        "id": "lCLJp082-0hc"
      },
      "execution_count": null,
      "outputs": []
    }
  ]
}